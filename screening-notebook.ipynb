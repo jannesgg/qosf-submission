{
 "cells": [
  {
   "cell_type": "markdown",
   "metadata": {},
   "source": [
    "## Screening tasks - Task 2"
   ]
  },
  {
   "cell_type": "code",
   "execution_count": 17,
   "metadata": {},
   "outputs": [],
   "source": [
    "import numpy as np\n",
    "import matplotlib.pyplot as plt\n",
    "\n",
    "import qiskit\n",
    "from qiskit.visualization import *\n",
    "from qiskit import *\n",
    "from math import pi"
   ]
  },
  {
   "cell_type": "code",
   "execution_count": 18,
   "metadata": {},
   "outputs": [],
   "source": [
    "from qiskit.providers.aer import noise\n",
    "from qiskit.providers.ibmq import least_busy"
   ]
  },
  {
   "cell_type": "markdown",
   "metadata": {},
   "source": [
    "### Set up IBMQ with noise and noiseless backend for testing"
   ]
  },
  {
   "cell_type": "code",
   "execution_count": 19,
   "metadata": {},
   "outputs": [],
   "source": [
    "IBM_TOKEN = 'YOUR IBM TOKEN HERE'"
   ]
  },
  {
   "cell_type": "code",
   "execution_count": 22,
   "metadata": {},
   "outputs": [
    {
     "name": "stderr",
     "output_type": "stream",
     "text": [
      "/Users/juriegermishuys/anaconda3/envs/qnlp/lib/python3.7/site-packages/qiskit/providers/ibmq/ibmqfactory.py:192: UserWarning: Timestamps in IBMQ backend properties, jobs, and job results are all now in local time instead of UTC.\n",
      "  warnings.warn('Timestamps in IBMQ backend properties, jobs, and job results '\n",
      "ibmqfactory.load_account:WARNING:2020-09-13 21:44:47,311: Credentials are already in use. The existing account in the session will be replaced.\n"
     ]
    }
   ],
   "source": [
    "IBMQ.save_account(IBM_TOKEN,\n",
    "                  overwrite=True)\n",
    "\n",
    "provider = IBMQ.load_account()\n",
    "try:\n",
    "    least_busy_device = least_busy(provider.backends(simulator=False, \n",
    "                                                     filters=lambda b: b.configuration().n_qubits > 2))\n",
    "except:\n",
    "    print(\"All devices are currently unavailable.\")\n",
    "    lbd = str(least_busy_device)\n",
    "    print(\"Running on current least busy device: \", lbd)\n",
    "noise_backend = least_busy_device\n",
    "nonoise_backend = Aer.get_backend(\"qasm_simulator\")"
   ]
  },
  {
   "cell_type": "markdown",
   "metadata": {},
   "source": [
    "### Create a Qiskit circuit that returns the required state"
   ]
  },
  {
   "cell_type": "code",
   "execution_count": 23,
   "metadata": {},
   "outputs": [
    {
     "data": {
      "text/html": [
       "<pre style=\"word-wrap: normal;white-space: pre;background: #fff0;line-height: 1.1;font-family: &quot;Courier New&quot;,Courier,monospace\">     ┌───┐          \n",
       "q_0: ┤ H ├──■───────\n",
       "     └───┘┌─┴─┐┌───┐\n",
       "q_1: ─────┤ X ├┤ X ├\n",
       "          └───┘└───┘</pre>"
      ],
      "text/plain": [
       "     ┌───┐          \n",
       "q_0: ┤ H ├──■───────\n",
       "     └───┘┌─┴─┐┌───┐\n",
       "q_1: ─────┤ X ├┤ X ├\n",
       "          └───┘└───┘"
      ]
     },
     "execution_count": 23,
     "metadata": {},
     "output_type": "execute_result"
    }
   ],
   "source": [
    "qc = QuantumCircuit(2)\n",
    "# Apply H-gate to the first:\n",
    "qc.h(0)\n",
    "# Apply a CNOT:\n",
    "qc.cx(0,1)\n",
    "# Apply a NOT to the second:\n",
    "qc.x(1)\n",
    "qc.draw()"
   ]
  },
  {
   "cell_type": "code",
   "execution_count": 24,
   "metadata": {},
   "outputs": [
    {
     "name": "stdout",
     "output_type": "stream",
     "text": [
      "[0.        +0.j 0.70710678+0.j 0.70710678+0.j 0.        +0.j]\n"
     ]
    }
   ],
   "source": [
    "# Let's see the result:\n",
    "backend = Aer.get_backend('statevector_simulator')\n",
    "final_state = execute(qc,backend).result().get_statevector()\n",
    "# Print the statevector neatly:\n",
    "print(final_state)"
   ]
  },
  {
   "cell_type": "markdown",
   "metadata": {},
   "source": [
    "### Equivalent circuit using only CNOT, Rx, Ry"
   ]
  },
  {
   "cell_type": "code",
   "execution_count": 25,
   "metadata": {},
   "outputs": [
    {
     "data": {
      "text/html": [
       "<pre style=\"word-wrap: normal;white-space: pre;background: #fff0;line-height: 1.1;font-family: &quot;Courier New&quot;,Courier,monospace\">     ┌────────┐┌───────────┐                \n",
       "q_0: ┤ RX(pi) ├┤ RY(-pi/2) ├──■─────────────\n",
       "     └────────┘└───────────┘┌─┴─┐┌─────────┐\n",
       "q_1: ───────────────────────┤ X ├┤ RX(-pi) ├\n",
       "                            └───┘└─────────┘</pre>"
      ],
      "text/plain": [
       "     ┌────────┐┌───────────┐                \n",
       "q_0: ┤ RX(pi) ├┤ RY(-pi/2) ├──■─────────────\n",
       "     └────────┘└───────────┘┌─┴─┐┌─────────┐\n",
       "q_1: ───────────────────────┤ X ├┤ RX(-pi) ├\n",
       "                            └───┘└─────────┘"
      ]
     },
     "execution_count": 25,
     "metadata": {},
     "output_type": "execute_result"
    }
   ],
   "source": [
    "qc = QuantumCircuit(2)\n",
    "# Apply H-gate to the first:\n",
    "qc.rx(pi, 0)\n",
    "qc.ry(-pi/2, 0)\n",
    "# Apply a CNOT:\n",
    "qc.cx(0,1)\n",
    "qc.rx(-pi, 1)\n",
    "qc.draw()"
   ]
  },
  {
   "cell_type": "code",
   "execution_count": 26,
   "metadata": {},
   "outputs": [
    {
     "name": "stdout",
     "output_type": "stream",
     "text": [
      "[ 4.32978028e-17+0.j          4.32978028e-17+0.70710678j\n",
      " -4.32978028e-17+0.70710678j  4.32978028e-17+0.j        ]\n"
     ]
    }
   ],
   "source": [
    "# Let's see the result:\n",
    "backend = Aer.get_backend('statevector_simulator')\n",
    "final_state = execute(qc,backend).result().get_statevector()\n",
    "# Print the statevector neatly:\n",
    "print(final_state)"
   ]
  },
  {
   "cell_type": "markdown",
   "metadata": {},
   "source": [
    "### Optimise using gradient descent"
   ]
  },
  {
   "cell_type": "markdown",
   "metadata": {},
   "source": [
    "#### Start off with the ideal (target) distribution across states (01, 10)"
   ]
  },
  {
   "cell_type": "code",
   "execution_count": 27,
   "metadata": {},
   "outputs": [],
   "source": [
    "import numpy as np\n",
    "target_distr = np.array([0., 0., 0.5, 0.5])"
   ]
  },
  {
   "cell_type": "markdown",
   "metadata": {},
   "source": [
    "#### Ensure that the order extracted remains fixed throughout"
   ]
  },
  {
   "cell_type": "code",
   "execution_count": 28,
   "metadata": {},
   "outputs": [],
   "source": [
    "qubit_order = {'11': 0, '00': 1, '01': 2, '10': 3}"
   ]
  },
  {
   "cell_type": "markdown",
   "metadata": {},
   "source": [
    "#### Create circuit"
   ]
  },
  {
   "cell_type": "code",
   "execution_count": 29,
   "metadata": {},
   "outputs": [],
   "source": [
    "from qiskit import QuantumCircuit, ClassicalRegister, QuantumRegister\n",
    "def get_var_form(params):\n",
    "    qc = QuantumCircuit(2)\n",
    "    # Apply H-gate to the first:\n",
    "    qc.rx(params[0], 0)\n",
    "    qc.ry(params[1], 0)\n",
    "    # Apply a CNOT:\n",
    "    qc.cx(0,1)\n",
    "    qc.rx(params[2], 1)\n",
    "    qc.measure_all()\n",
    "    return qc"
   ]
  },
  {
   "cell_type": "markdown",
   "metadata": {},
   "source": [
    "#### Optimise the objective function which looks to match the output distribution from the quantum circuit to the target distribution"
   ]
  },
  {
   "cell_type": "code",
   "execution_count": 31,
   "metadata": {},
   "outputs": [],
   "source": [
    "from qiskit import Aer, execute\n",
    "from qiskit.aqua.components.optimizers import COBYLA, AQGD, SPSA\n",
    "backend = nonoise_backend\n",
    "\n",
    "# Set number of trials and random initialisation for each parameters\n",
    "NUM_SHOTS = 1000\n",
    "params = np.random.rand(3)\n",
    "\n",
    "def get_probability_distribution(counts):\n",
    "    for k in qubit_order.keys():\n",
    "        if k not in counts:\n",
    "            counts[k] = 0\n",
    "    output_distr = [counts['11'] / NUM_SHOTS, counts['00'] / NUM_SHOTS, \n",
    "                    counts['01']/ NUM_SHOTS, counts['10'] / NUM_SHOTS]\n",
    "    return output_distr\n",
    "\n",
    "def objective_function(params):\n",
    "    # Obtain a quantum circuit instance from the paramters\n",
    "    qc = get_var_form(params)\n",
    "    # Execute the quantum circuit to obtain the probability distribution associated with the current parameters\n",
    "    result = execute(qc, backend, shots=NUM_SHOTS).result()\n",
    "    # Obtain the counts for each measured state, and convert those counts into a probability vector\n",
    "    output_distr = get_probability_distribution(result.get_counts(qc))\n",
    "    # Calculate the cost as the distance between the output distribution and the target distribution\n",
    "    cost = sum([np.abs(output_distr[i] - target_distr[i]) for i in range(4)])\n",
    "    return cost\n",
    "\n"
   ]
  },
  {
   "cell_type": "code",
   "execution_count": 32,
   "metadata": {},
   "outputs": [],
   "source": [
    "def optimise(init_params=params, objective_function=objective_function, \n",
    "             optimizer=AQGD(maxiter=1000, tol=0.0001), shots=NUM_SHOTS, backend=backend):\n",
    "    \n",
    "    # Create the initial parameters (noting that our TWO qubit variational form has 3 parameters)\n",
    "    ret = optimizer.optimize(num_vars=3, objective_function=objective_function, initial_point=params)\n",
    "    # Obtain the output distribution using the final parameters\n",
    "    qc = get_var_form(ret[0])\n",
    "    counts = execute(qc, backend, shots=shots).result().get_counts(qc)\n",
    "    output_distr = get_probability_distribution(counts)\n",
    "    \n",
    "    return {\"target\": target_distr, \"obtained\": output_distr,\n",
    "            \"error (manhattan distance)\": ret[1], \"parameters\": ret[0]}"
   ]
  },
  {
   "cell_type": "code",
   "execution_count": 36,
   "metadata": {},
   "outputs": [],
   "source": [
    "experiments = {}\n",
    "for n in [1, 10, 100, 1000]:\n",
    "    NUM_SHOTS = n\n",
    "    experiments[n] = optimise()"
   ]
  },
  {
   "cell_type": "code",
   "execution_count": 37,
   "metadata": {},
   "outputs": [
    {
     "data": {
      "text/plain": [
       "{1: {'target': array([0. , 0. , 0.5, 0.5]),\n",
       "  'obtained': [233.0, 125.0, 416.0, 226.0],\n",
       "  'error (manhattan distance)': 1.0,\n",
       "  'parameters': array([ 2.11047416, -1.03081151,  4.35849963])},\n",
       " 10: {'target': array([0. , 0. , 0.5, 0.5]),\n",
       "  'obtained': [3.5, 2.9, 44.0, 49.6],\n",
       "  'error (manhattan distance)': 0.39999999999999997,\n",
       "  'parameters': array([-0.27943673,  1.53323268,  3.64252063])},\n",
       " 100: {'target': array([0. , 0. , 0.5, 0.5]),\n",
       "  'obtained': [0.25, 0.26, 4.34, 5.15],\n",
       "  'error (manhattan distance)': 0.0,\n",
       "  'parameters': array([-4.63488345,  3.68459442,  2.73572427])},\n",
       " 1000: {'target': array([0. , 0. , 0.5, 0.5]),\n",
       "  'obtained': [0.0, 0.0, 0.804, 0.196],\n",
       "  'error (manhattan distance)': 0.0,\n",
       "  'parameters': array([-6.53484491, -8.57511327,  3.13337353])}}"
      ]
     },
     "execution_count": 37,
     "metadata": {},
     "output_type": "execute_result"
    }
   ],
   "source": [
    "experiments"
   ]
  },
  {
   "cell_type": "markdown",
   "metadata": {},
   "source": [
    "It is clear from these experiments that as we increase the number of measurements, our measurements become more accurate and do not suffer so much due to the noise. (These experiments were reset in terms of noiseless backends so that the notebook could be run without using an IBMQ token, but it can easily be re-run with the actual quantum backends). "
   ]
  },
  {
   "cell_type": "markdown",
   "metadata": {},
   "source": [
    "### Test solution"
   ]
  },
  {
   "cell_type": "code",
   "execution_count": 92,
   "metadata": {},
   "outputs": [
    {
     "data": {
      "text/html": [
       "<pre style=\"word-wrap: normal;white-space: pre;background: #fff0;line-height: 1.1;font-family: &quot;Courier New&quot;,Courier,monospace\">     ┌───────────┐┌─────────────┐                   \n",
       "q_0: ┤ RX(7.834) ├┤ RY(-8.2262) ├──■────────────────\n",
       "     └───────────┘└─────────────┘┌─┴─┐┌────────────┐\n",
       "q_1: ────────────────────────────┤ X ├┤ RX(3.1219) ├\n",
       "                                 └───┘└────────────┘</pre>"
      ],
      "text/plain": [
       "     ┌───────────┐┌─────────────┐                   \n",
       "q_0: ┤ RX(7.834) ├┤ RY(-8.2262) ├──■────────────────\n",
       "     └───────────┘└─────────────┘┌─┴─┐┌────────────┐\n",
       "q_1: ────────────────────────────┤ X ├┤ RX(3.1219) ├\n",
       "                                 └───┘└────────────┘"
      ]
     },
     "execution_count": 92,
     "metadata": {},
     "output_type": "execute_result"
    }
   ],
   "source": [
    "qc = QuantumCircuit(2)\n",
    "# Apply H-gate to the first:\n",
    "qc.rx(experiments[100]['parameters'][0], 0)\n",
    "qc.ry(experiments[100]['parameters'][1], 0)\n",
    "# Apply a CNOT:\n",
    "qc.cx(0,1)\n",
    "qc.rx(experiments[100]['parameters'][2], 1)\n",
    "qc.draw()"
   ]
  },
  {
   "cell_type": "code",
   "execution_count": 93,
   "metadata": {},
   "outputs": [
    {
     "name": "stdout",
     "output_type": "stream",
     "text": [
      "Final state vector [ 6.94854796e-03+0.j         -7.09510167e-01+0.01318666j\n",
      "  4.31383536e-17-0.70450278j -1.30060705e-04-0.00699794j]\n",
      "Final state distribution {'00': 4.8282318693e-05, '01': 0.503578565580366, '10': 0.496324164075472, '11': 4.8988025468e-05}\n"
     ]
    }
   ],
   "source": [
    "# Let's see the result:\n",
    "backend = Aer.get_backend('statevector_simulator')\n",
    "final_state = execute(qc,backend, shots=10000).result().get_statevector()\n",
    "final_counts = execute(qc,backend, shots=10000).result().get_counts(qc)\n",
    "# Print the statevector neatly:\n",
    "print(\"Final state vector\", final_state)\n",
    "print(\"Final state distribution\", final_counts)"
   ]
  },
  {
   "cell_type": "markdown",
   "metadata": {},
   "source": [
    "Our optimised parameters achieve the desired outcome between states '01' and '10'. "
   ]
  },
  {
   "cell_type": "markdown",
   "metadata": {},
   "source": [
    "### Bonus Question"
   ]
  },
  {
   "cell_type": "markdown",
   "metadata": {},
   "source": [
    "How to make sure you produce state  |01⟩  +  |10⟩  and not any other combination of |01> + e(i*phi)|10⟩ (for example |01⟩  -  |10⟩)?"
   ]
  },
  {
   "cell_type": "markdown",
   "metadata": {},
   "source": [
    "Attempt:\n",
    "    \n",
    "    This places a restriction on the values of phi, i.e. e(i*phi) = 1. This restricts phi to multiples of 2*pi \n",
    "    Thus if we restrict our parameters to these values we will avoid these combinations."
   ]
  },
  {
   "cell_type": "code",
   "execution_count": 108,
   "metadata": {},
   "outputs": [],
   "source": [
    "# End of Notebook"
   ]
  }
 ],
 "metadata": {
  "kernelspec": {
   "display_name": "Python 3",
   "language": "python",
   "name": "python3"
  },
  "language_info": {
   "codemirror_mode": {
    "name": "ipython",
    "version": 3
   },
   "file_extension": ".py",
   "mimetype": "text/x-python",
   "name": "python",
   "nbconvert_exporter": "python",
   "pygments_lexer": "ipython3",
   "version": "3.7.8"
  }
 },
 "nbformat": 4,
 "nbformat_minor": 2
}
